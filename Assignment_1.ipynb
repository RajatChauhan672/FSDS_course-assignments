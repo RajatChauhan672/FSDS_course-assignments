{
 "cells": [
  {
   "cell_type": "markdown",
   "id": "acbc9349",
   "metadata": {},
   "source": [
    "## (ANS.1)\n",
    "\n",
    "\"hello\"=value\n",
    "\n",
    "-87.8= value\n",
    "\n",
    "-= expression\n",
    "\n",
    "/=expression\n",
    "\n",
    "+=expression\n",
    "\n",
    "6=value"
   ]
  },
  {
   "cell_type": "markdown",
   "id": "6b7d86c3",
   "metadata": {},
   "source": [
    "# (ANS.2)\n",
    "VARIABLE: we can say that variable is something which points to a memory location \n",
    "          which has some value stored in it.\n",
    "          variable can have any name but it should not be a keyword or should follow some\n",
    "          nominclature rules.\n",
    "\n",
    "\n",
    "STRING : string is a datatype in python  which contains a sequence of characters and \n",
    "         enclose within the \"\" or ''.\n",
    "         their is no such restrictions on string to have a value, it can have any sequence of characters it\n",
    "         can be a keyword also."
   ]
  },
  {
   "cell_type": "code",
   "execution_count": 14,
   "id": "a95377f6",
   "metadata": {},
   "outputs": [
    {
     "data": {
      "text/plain": [
       "'rajat'"
      ]
     },
     "execution_count": 14,
     "metadata": {},
     "output_type": "execute_result"
    }
   ],
   "source": [
    "Name=\"rajat\"\n",
    "Name"
   ]
  },
  {
   "cell_type": "raw",
   "id": "796d9b39",
   "metadata": {},
   "source": [
    " \"Name\" is variable which is of string datatype as it contains a sequence of characters."
   ]
  },
  {
   "cell_type": "markdown",
   "id": "8b60a9b8",
   "metadata": {},
   "source": [
    "# (ANS.3)  \n",
    "Three different datatypes\n",
    "\n",
    "1.INTEGER\n",
    "\n",
    "Integer is the datatype that contains only whole number it does not contain the fractional part of the number.\n"
   ]
  },
  {
   "cell_type": "code",
   "execution_count": 15,
   "id": "eedb2291",
   "metadata": {},
   "outputs": [
    {
     "name": "stdout",
     "output_type": "stream",
     "text": [
      "10\n"
     ]
    }
   ],
   "source": [
    "a=10\n",
    "print(a)"
   ]
  },
  {
   "cell_type": "code",
   "execution_count": 16,
   "id": "00abf6f7",
   "metadata": {},
   "outputs": [
    {
     "name": "stdout",
     "output_type": "stream",
     "text": [
      "3\n"
     ]
    }
   ],
   "source": [
    "a=int(3.5)\n",
    "print(a)"
   ]
  },
  {
   "cell_type": "raw",
   "id": "b9b50b0a",
   "metadata": {},
   "source": [
    "as we saw in above example on converting 3.5 in integer value than it skips the fractional part of the number which\n",
    "is 0.5 and it prints only 3."
   ]
  },
  {
   "cell_type": "raw",
   "id": "4e3cc73d",
   "metadata": {},
   "source": [
    "2.STRING\n",
    "Stringis a datatype that have a sequence of characters which can be anything \n",
    "it does not require that sequence of characters to make any sense and the sequence \n",
    "of character should inclose within '' or \"\" ."
   ]
  },
  {
   "cell_type": "code",
   "execution_count": 17,
   "id": "f785c93e",
   "metadata": {},
   "outputs": [
    {
     "name": "stdout",
     "output_type": "stream",
     "text": [
      "Rajat Chauhan\n",
      "Rajat Chauhan\n"
     ]
    }
   ],
   "source": [
    "a=\"Rajat Chauhan\"\n",
    "b=\"Rajat Chauhan\"\n",
    "print(a)\n",
    "print(b)"
   ]
  },
  {
   "cell_type": "raw",
   "id": "a652aa6c",
   "metadata": {},
   "source": [
    "3.FLOAT\n",
    "Float is the datatype that contains whole part of a number as well as fractional part which is a real number.\n"
   ]
  },
  {
   "cell_type": "code",
   "execution_count": 18,
   "id": "27f43940",
   "metadata": {},
   "outputs": [
    {
     "data": {
      "text/plain": [
       "3.5"
      ]
     },
     "execution_count": 18,
     "metadata": {},
     "output_type": "execute_result"
    }
   ],
   "source": [
    "a=float(3.5)\n",
    "a"
   ]
  },
  {
   "cell_type": "markdown",
   "id": "fc48c27b",
   "metadata": {},
   "source": [
    "# (ANS.4)\n",
    "\n",
    "An expression is made up of the combination of operands and operators\n",
    "\n",
    "\n",
    "An expression gives us the value after evaluationg all the operators on the given operands and \n",
    "the evaluation of operators is based on the presedence of the operator .Operator with \n",
    "the higher presedence will be evaluated first and the operators with the same presedence\n",
    "will be evaluated on the basis of associativity it is either from left to right or right to left.\n",
    "\n"
   ]
  },
  {
   "cell_type": "markdown",
   "id": "f2c24c71",
   "metadata": {},
   "source": [
    "# (ANS.5)\n",
    "\n",
    "expressions are the subset of statements and it is a piece of code that can be evaluated\n",
    "to get a value.while statement is a block of code that performs a specific action or a task\n",
    "\n"
   ]
  },
  {
   "cell_type": "markdown",
   "id": "8bc014df",
   "metadata": {},
   "source": [
    "# (ANS.6)\n",
    "bacon will contain 23\n"
   ]
  },
  {
   "cell_type": "markdown",
   "id": "1a495ce0",
   "metadata": {},
   "source": [
    "# (ANS.7)\n",
    "\n",
    "'spam'+'spamspam'='spamspamspam'\n",
    "\n",
    "'spam'*3='spamspamspam'"
   ]
  },
  {
   "cell_type": "markdown",
   "id": "d936352e",
   "metadata": {},
   "source": [
    "# (ANS.8)\n",
    "\n",
    "\"eggs\" is a valid variable because it is starting with a letter and \"100\" is \n",
    "invalid because it is starting with a digit which is violing the rule of nominclature of variable\n"
   ]
  },
  {
   "cell_type": "markdown",
   "id": "2c2a90bb",
   "metadata": {},
   "source": [
    "# (ANS.9)\n",
    "\n",
    "str() function to convert into a string\n",
    "\n",
    "float() function to convert into a flaoting point number\n",
    "\n",
    "int() function to convert into a integer"
   ]
  },
  {
   "cell_type": "code",
   "execution_count": 30,
   "id": "6513b315",
   "metadata": {},
   "outputs": [
    {
     "data": {
      "text/plain": [
       "89.9"
      ]
     },
     "execution_count": 30,
     "metadata": {},
     "output_type": "execute_result"
    }
   ],
   "source": [
    "value=89.9\n",
    "float(value)"
   ]
  },
  {
   "cell_type": "code",
   "execution_count": 31,
   "id": "f60c4866",
   "metadata": {},
   "outputs": [
    {
     "data": {
      "text/plain": [
       "89"
      ]
     },
     "execution_count": 31,
     "metadata": {},
     "output_type": "execute_result"
    }
   ],
   "source": [
    "value=89.9\n",
    "int(value)"
   ]
  },
  {
   "cell_type": "code",
   "execution_count": 32,
   "id": "93650d2b",
   "metadata": {},
   "outputs": [
    {
     "data": {
      "text/plain": [
       "'89.9'"
      ]
     },
     "execution_count": 32,
     "metadata": {},
     "output_type": "execute_result"
    }
   ],
   "source": [
    "value=89.9\n",
    "str(value)"
   ]
  },
  {
   "cell_type": "markdown",
   "id": "d3690d4a",
   "metadata": {},
   "source": [
    "# (ANS.10)\n",
    "\n",
    "'i have eaten'+99+'burritos' this is causing error because we are trying to concatinate an\n",
    "integer with a string which is not valid.\n",
    "we can fix it by enclosing 99 within ' '. "
   ]
  },
  {
   "cell_type": "code",
   "execution_count": null,
   "id": "92e4a069",
   "metadata": {},
   "outputs": [],
   "source": []
  }
 ],
 "metadata": {
  "kernelspec": {
   "display_name": "Python 3 (ipykernel)",
   "language": "python",
   "name": "python3"
  },
  "language_info": {
   "codemirror_mode": {
    "name": "ipython",
    "version": 3
   },
   "file_extension": ".py",
   "mimetype": "text/x-python",
   "name": "python",
   "nbconvert_exporter": "python",
   "pygments_lexer": "ipython3",
   "version": "3.10.9"
  }
 },
 "nbformat": 4,
 "nbformat_minor": 5
}
