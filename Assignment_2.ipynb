{
 "cells": [
  {
   "cell_type": "markdown",
   "id": "5417692b",
   "metadata": {},
   "source": [
    "# (ANS.1)\n",
    "\n",
    "What are the two values of the boolean data types? how do you write them ?\n",
    "\n",
    "Two values of boolean datatypes are True and False\n",
    "while writing these two values the first character should be in\n",
    "capital and the rest in small.(True,False)"
   ]
  },
  {
   "cell_type": "markdown",
   "id": "9d559b85",
   "metadata": {},
   "source": [
    "# (ANS.2)\n",
    "\n",
    "What are the three different types of Boolean operators?\n",
    "\n",
    "Three types of boolean operators are:\n",
    "\n",
    "1.AND it gives 1 when all the values are True\n",
    "    \n",
    "2. OR it gives 1 when either of the value is True\n",
    "    \n",
    " 3.NOT it gives always opposite of the input if input is True\n",
    "    then it will give False as a output"
   ]
  },
  {
   "cell_type": "markdown",
   "id": "2128ece6",
   "metadata": {},
   "source": [
    "# (ANS.3)\n",
    "\n",
    "Make a list of each Boolean operator's truth tables (i.e. every possible combination of Boolean values for the operator and what it evaluate) ?\n",
    "\n",
    "Let assume two variables P and Q\n",
    "\n",
    "1.AND\n",
    "\n",
    "    P      Q       RESULT\n",
    "\n",
    "    True   True     True\n",
    "\n",
    "    True   False    False\n",
    "\n",
    "    False  True     False\n",
    "\n",
    "    False  False    False\n",
    "\n",
    "2.OR\n",
    "\n",
    "    P       Q       RESULT\n",
    "\n",
    "    True   True      True\n",
    "\n",
    "    True   False     True\n",
    "\n",
    "    False  True      True\n",
    "    \n",
    "    False  False     False\n",
    "\n",
    "3.NOT\n",
    "\n",
    "    P        RESULT\n",
    "\n",
    "    True      False\n",
    "    \n",
    "    False     True"
   ]
  },
  {
   "cell_type": "markdown",
   "id": "90e725a4",
   "metadata": {},
   "source": [
    "# (ANS.4)\n",
    "\n",
    "What are the values of the following expressions ?\n",
    "\n",
    "(5>4)and(3==5) gives False\n",
    "\n",
    "not(5>4) gives False\n",
    "\n",
    "(5>4)or(3==5) gives True\n",
    "\n",
    "not((5>4)or(3==5)) gives False\n",
    "\n",
    "(True and True)and(True==False) gives False\n",
    "\n",
    "(not False) or (not True) gives True"
   ]
  },
  {
   "cell_type": "markdown",
   "id": "b8077496",
   "metadata": {},
   "source": [
    "# (ANS.5)\n",
    "\n",
    "What are the six comparison operators?\n",
    "\n",
    "    1.less than  <\n",
    "    2.greater than >\n",
    "    3.less than or equal to <=\n",
    "    4.greater than or equal to >=\n",
    "    5.equal to =\n",
    "    6.not equal to !="
   ]
  },
  {
   "cell_type": "markdown",
   "id": "4acf6d4f",
   "metadata": {},
   "source": [
    "# (ANS.6)\n",
    "\n",
    "How do you tell the difference between the equal to and assignment operators?Describe a condition and when you would use one ?\n",
    "\n",
    "In python programming equal to operator is written as \"==\"\n",
    "and '=' is treated as assignment operator\n",
    "\n",
    "equal to operator is used to compare two values\n",
    "and assignment opertor is used to assign a value to a variable"
   ]
  },
  {
   "cell_type": "code",
   "execution_count": 9,
   "id": "58afe45c",
   "metadata": {},
   "outputs": [
    {
     "data": {
      "text/plain": [
       "False"
      ]
     },
     "execution_count": 9,
     "metadata": {},
     "output_type": "execute_result"
    }
   ],
   "source": [
    "#assignment operator 10 is assigning to variable a\n",
    "a=10\n",
    "#equal to operator is used to compare a and b\n",
    "a=10\n",
    "b=20\n",
    "a==b # which is false"
   ]
  },
  {
   "cell_type": "markdown",
   "id": "91f8b11b",
   "metadata": {},
   "source": [
    "# (ANS.7)\n",
    "\n",
    "Identify the three blocks in this code:\n",
    "spam = 0\n",
    "if spam == 10:\n",
    "print('eggs')\n",
    "if spam > 5:\n",
    "print('bacon')\n",
    "else:\n",
    "print('ham')\n",
    "print('spam')\n",
    "print('spam')\n",
    "\n",
    "In Python, code block refers to a collection of code that is in the same block or indent. This is most commonly found in classes, functions, and loops."
   ]
  },
  {
   "cell_type": "code",
   "execution_count": 1,
   "id": "1d3e334b",
   "metadata": {},
   "outputs": [
    {
     "name": "stdout",
     "output_type": "stream",
     "text": [
      "ham\n",
      "spam\n",
      "spam\n"
     ]
    }
   ],
   "source": [
    "spam = 0  \n",
    "if spam == 10:  \n",
    "    print('eggs')  # block #1\n",
    "if spam > 5:  \n",
    "    print('bacon')  # block #2\n",
    "else:  \n",
    "    print('ham')  # block #3\n",
    "print('spam')  \n",
    "print('spam')"
   ]
  },
  {
   "cell_type": "markdown",
   "id": "1176fae6",
   "metadata": {},
   "source": [
    "# (ANS.8)\n",
    "\n",
    "Write code that prints Hello if 1 is stored in spam, prints Howdy if 2 is stored in spam, and prints Greetings! if anything else is stored in spam."
   ]
  },
  {
   "cell_type": "raw",
   "id": "00329b5f",
   "metadata": {},
   "source": [
    "if(spam==1):\n",
    "    print(\"Hello\")\n",
    "elif(spam==2):\n",
    "    print(\"Howdy\")\n",
    "else:\n",
    "    print(\"Greetings!\")"
   ]
  },
  {
   "cell_type": "markdown",
   "id": "0d278195",
   "metadata": {},
   "source": [
    "# (ANS.9)\n",
    "\n",
    "If your programme is stuck in an endless loop, what keys you’ll press?\n",
    "\n",
    "Press Ctrl-c to stop a program stuck in an infinite loop"
   ]
  },
  {
   "cell_type": "markdown",
   "id": "ff362c11",
   "metadata": {},
   "source": [
    "# (ANS.10)\n",
    "\n",
    "How can you tell the difference between break and continue?\n",
    "\n",
    "Ans: The break statement will move the execution outside the loop if break condtion is satisfied. Whereas the continue statement will move the execution to the start of the loop."
   ]
  },
  {
   "cell_type": "markdown",
   "id": "6259bd03",
   "metadata": {},
   "source": [
    "# (ANS.11)\n",
    "\n",
    " In a for loop, what is the difference between range(10), range(0, 10), and range(0, 10, 1)?\n",
    "\n",
    "The range(10) call range from 0 to 9 (but not include 10)\n",
    "The range (0,10) explicitly tells the loop to start at 0\n",
    "The range(0,10,1) explicitly tells the loop to increase the variable by 1 on each iteration"
   ]
  },
  {
   "cell_type": "markdown",
   "id": "14141834",
   "metadata": {},
   "source": [
    "# (ANS.12)"
   ]
  },
  {
   "cell_type": "code",
   "execution_count": 2,
   "id": "36800538",
   "metadata": {},
   "outputs": [
    {
     "name": "stdout",
     "output_type": "stream",
     "text": [
      "1\n",
      "2\n",
      "3\n",
      "4\n",
      "5\n",
      "6\n",
      "7\n",
      "8\n",
      "9\n",
      "10\n"
     ]
    }
   ],
   "source": [
    "for i in range(1,11):\n",
    "    print(i)"
   ]
  },
  {
   "cell_type": "code",
   "execution_count": 6,
   "id": "d6918071",
   "metadata": {},
   "outputs": [
    {
     "name": "stdout",
     "output_type": "stream",
     "text": [
      "1\n",
      "2\n",
      "3\n",
      "4\n",
      "5\n",
      "6\n",
      "7\n",
      "8\n",
      "9\n",
      "10\n"
     ]
    }
   ],
   "source": [
    "i=1\n",
    "while(i<11):\n",
    "    print(i)\n",
    "    i=i+1"
   ]
  },
  {
   "cell_type": "markdown",
   "id": "dbaf5781",
   "metadata": {},
   "source": [
    "# (ANS.13)\n",
    "\n",
    "import spam\n",
    "\n",
    "spam.bacon()"
   ]
  },
  {
   "cell_type": "code",
   "execution_count": null,
   "id": "3fe1adb7",
   "metadata": {},
   "outputs": [],
   "source": []
  }
 ],
 "metadata": {
  "kernelspec": {
   "display_name": "Python 3 (ipykernel)",
   "language": "python",
   "name": "python3"
  },
  "language_info": {
   "codemirror_mode": {
    "name": "ipython",
    "version": 3
   },
   "file_extension": ".py",
   "mimetype": "text/x-python",
   "name": "python",
   "nbconvert_exporter": "python",
   "pygments_lexer": "ipython3",
   "version": "3.10.9"
  }
 },
 "nbformat": 4,
 "nbformat_minor": 5
}
