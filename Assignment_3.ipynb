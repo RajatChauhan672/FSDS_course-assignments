{
 "cells": [
  {
   "cell_type": "markdown",
   "id": "677d59dd",
   "metadata": {},
   "source": [
    "# (ANS.1)\n",
    "\n",
    "Why are functions advantageous to have in your programs?\n",
    "\n",
    "\n",
    " Functions reduce the need for duplicate code. This makes programs shorter, easier to read, and easier to update. The main advantage of functions is code Reusability.\n",
    "\n"
   ]
  },
  {
   "cell_type": "markdown",
   "id": "4016afa4",
   "metadata": {},
   "source": [
    "# (ANS.2)\n",
    "\n",
    "When does the code in a function run: when it's specified or when it's called?\n",
    "\n",
    " The code in a function executes when the function is called, not when the function is specified."
   ]
  },
  {
   "cell_type": "markdown",
   "id": "06b59f1f",
   "metadata": {},
   "source": [
    "# (ANS.3)\n",
    "\n",
    " What statement creates a function?\n",
    "\n",
    "The def statement defines a function"
   ]
  },
  {
   "cell_type": "markdown",
   "id": "4906e928",
   "metadata": {},
   "source": [
    "# (ANS.4)\n",
    "\n",
    " What is the difference between a function and a function call?\n",
    "\n",
    " A function is procedure to achieve a particular result. while function call is using this function to achive that task. Using a function to do a particular task any point in program is called as function call."
   ]
  },
  {
   "cell_type": "markdown",
   "id": "36b94cd2",
   "metadata": {},
   "source": [
    "# (ANS.5)\n",
    "\n",
    "How many global scopes are there in a Python program? How many local scopes?\n",
    "\n",
    "There is one global scope, and a local scope is created whenever a function is called."
   ]
  },
  {
   "cell_type": "markdown",
   "id": "7e437115",
   "metadata": {},
   "source": [
    "# (ANS.6)\n",
    "\n",
    " What happens to variables in a local scope when the function call returns?\n",
    " \n",
    " When a function returns, the local scope is destroyed, and all the variables in it are forgotten."
   ]
  },
  {
   "cell_type": "markdown",
   "id": "af3c134c",
   "metadata": {},
   "source": [
    "# (ANS.7)\n",
    "\n",
    "What is the concept of a return value? Is it possible to have a return value in an expression?\n",
    "\n",
    "A return value is the value that a function call evaluates to. Like any value, a return value can be used as part of an expression."
   ]
  },
  {
   "cell_type": "markdown",
   "id": "1f3834e3",
   "metadata": {},
   "source": [
    "# (ANS.8)\n",
    "\n",
    "If a function does not have a return statement, what is the return value of a call to that function?\n",
    "\n",
    "If there is no return statement for a function, its return value is None."
   ]
  },
  {
   "cell_type": "markdown",
   "id": "d4584b4b",
   "metadata": {},
   "source": [
    "# (ANS.9)\n",
    "\n",
    "How do you make a function variable refer to the global variable?\n",
    "\n",
    " A global statement will force a variable in a function to refer to the global variable. If you want to refer to a global variable in a function, you can use the global keyword to declare which variables are global."
   ]
  },
  {
   "cell_type": "markdown",
   "id": "5e97bc90",
   "metadata": {},
   "source": [
    "# (ANS.10)\n",
    "\n",
    "What is the data type of None?\n",
    "\n",
    "The data type of None is NoneType."
   ]
  },
  {
   "cell_type": "markdown",
   "id": "bcbff625",
   "metadata": {},
   "source": [
    "# (ANS.11)\n",
    "\n",
    "What does the sentence import areallyourpetsnamederic do?\n",
    "\n",
    "That import statement imports a module named areallyourpetsnamederic."
   ]
  },
  {
   "cell_type": "markdown",
   "id": "fd05d6fc",
   "metadata": {},
   "source": [
    "# (ANS.12)\n",
    "\n",
    " If you had a bacon() feature in a spam module, what would you call it after importing spam?\n",
    "\n",
    "This function can be called with spam.bacon()"
   ]
  },
  {
   "cell_type": "markdown",
   "id": "6a3c3ce8",
   "metadata": {},
   "source": [
    "# (ANS.13)\n",
    "\n",
    "What can you do to save a programme from crashing if it encounters an error?\n",
    "\n",
    "Place the line of code that might cause an error in a try clause and use except block to handle the error."
   ]
  },
  {
   "cell_type": "markdown",
   "id": "8f7214fa",
   "metadata": {},
   "source": [
    "# (ANS.14)\n",
    "\n",
    "What is the purpose of the try clause? What is the purpose of the except clause?\n",
    "\n",
    "The code that could potentially cause an error goes in the try clause. The code that executes if an error happens goes in the except clause."
   ]
  },
  {
   "cell_type": "code",
   "execution_count": null,
   "id": "2f9622b5",
   "metadata": {},
   "outputs": [],
   "source": []
  }
 ],
 "metadata": {
  "kernelspec": {
   "display_name": "Python 3 (ipykernel)",
   "language": "python",
   "name": "python3"
  },
  "language_info": {
   "codemirror_mode": {
    "name": "ipython",
    "version": 3
   },
   "file_extension": ".py",
   "mimetype": "text/x-python",
   "name": "python",
   "nbconvert_exporter": "python",
   "pygments_lexer": "ipython3",
   "version": "3.10.9"
  }
 },
 "nbformat": 4,
 "nbformat_minor": 5
}
