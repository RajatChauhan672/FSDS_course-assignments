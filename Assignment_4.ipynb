{
 "cells": [
  {
   "cell_type": "markdown",
   "id": "bc8569ca",
   "metadata": {},
   "source": [
    "# (ANS.1)"
   ]
  },
  {
   "cell_type": "markdown",
   "id": "acceb70b",
   "metadata": {},
   "source": [
    "What exactly is [ ]?\n",
    "\n",
    "Ans: The empty list represented by [] is a list that contains no items. This is similar to '' which represents an empty "
   ]
  },
  {
   "cell_type": "markdown",
   "id": "cd55d22b",
   "metadata": {},
   "source": [
    "# (ANS.2)"
   ]
  },
  {
   "cell_type": "markdown",
   "id": "410af270",
   "metadata": {},
   "source": [
    "In a list of values stored in a variable called spam, how would you assign the value 'hello' as the third value? (Assume [2, 4, 6, 8, 10] are in spam.)\n",
    "\n"
   ]
  },
  {
   "cell_type": "code",
   "execution_count": 2,
   "id": "48c1f31e",
   "metadata": {},
   "outputs": [
    {
     "name": "stdout",
     "output_type": "stream",
     "text": [
      "[2, 4, 'hello', 8, 10]\n"
     ]
    }
   ],
   "source": [
    "spam=[2,4,6,8,10]\n",
    "spam[2]=\"hello\"\n",
    "print(spam)"
   ]
  },
  {
   "cell_type": "markdown",
   "id": "4279860e",
   "metadata": {},
   "source": [
    "# Let's pretend the spam includes the list ['a','b','c',d'] for the next three queries.\n"
   ]
  },
  {
   "cell_type": "markdown",
   "id": "bea9dc62",
   "metadata": {},
   "source": [
    "# (ANS.3)"
   ]
  },
  {
   "cell_type": "markdown",
   "id": "562e42f2",
   "metadata": {},
   "source": [
    "What is the value of spam[int(int('3'*2)//11)] ?\n"
   ]
  },
  {
   "cell_type": "code",
   "execution_count": 3,
   "id": "f9ebfa01",
   "metadata": {},
   "outputs": [
    {
     "data": {
      "text/plain": [
       "'d'"
      ]
     },
     "execution_count": 3,
     "metadata": {},
     "output_type": "execute_result"
    }
   ],
   "source": [
    "spam=['a','b','c','d']\n",
    "spam[int(int('3'*2)//11)]"
   ]
  },
  {
   "cell_type": "markdown",
   "id": "b2b7feed",
   "metadata": {},
   "source": [
    "# (ANS.4)"
   ]
  },
  {
   "cell_type": "markdown",
   "id": "c4d94540",
   "metadata": {},
   "source": [
    "What is the value of spam[-1]?"
   ]
  },
  {
   "cell_type": "code",
   "execution_count": 4,
   "id": "f156936d",
   "metadata": {},
   "outputs": [
    {
     "data": {
      "text/plain": [
       "'d'"
      ]
     },
     "execution_count": 4,
     "metadata": {},
     "output_type": "execute_result"
    }
   ],
   "source": [
    "spam=['a','b','c','d']\n",
    "spam[-1]"
   ]
  },
  {
   "cell_type": "markdown",
   "id": "38f47ddf",
   "metadata": {},
   "source": [
    "# (ANS.5)"
   ]
  },
  {
   "cell_type": "markdown",
   "id": "a3018bdc",
   "metadata": {},
   "source": [
    " What is the value of spam[:2]?\n"
   ]
  },
  {
   "cell_type": "code",
   "execution_count": 5,
   "id": "b354589e",
   "metadata": {},
   "outputs": [
    {
     "data": {
      "text/plain": [
       "['a', 'b']"
      ]
     },
     "execution_count": 5,
     "metadata": {},
     "output_type": "execute_result"
    }
   ],
   "source": [
    "spam=['a','b','c','d']\n",
    "spam[:2]"
   ]
  },
  {
   "cell_type": "markdown",
   "id": "8f215b46",
   "metadata": {},
   "source": [
    "# Let's pretend bacon has the list [3.14,'cat',11,'cat',True] for the next three question"
   ]
  },
  {
   "cell_type": "markdown",
   "id": "82ff0b19",
   "metadata": {},
   "source": [
    "# (ANS.6)"
   ]
  },
  {
   "cell_type": "markdown",
   "id": "a6081fd4",
   "metadata": {},
   "source": [
    " What is the value of bacon.index('cat')?\n"
   ]
  },
  {
   "cell_type": "code",
   "execution_count": 6,
   "id": "3ac49bc3",
   "metadata": {},
   "outputs": [
    {
     "data": {
      "text/plain": [
       "2"
      ]
     },
     "execution_count": 6,
     "metadata": {},
     "output_type": "execute_result"
    }
   ],
   "source": [
    "bacon=[3,14,'cat',11,'cat',True]\n",
    "bacon.index('cat')"
   ]
  },
  {
   "cell_type": "code",
   "execution_count": 7,
   "id": "47dc38e1",
   "metadata": {},
   "outputs": [],
   "source": [
    "# index function returns the index of first occurence of the given value "
   ]
  },
  {
   "cell_type": "markdown",
   "id": "b58b4899",
   "metadata": {},
   "source": [
    "# (ANS.7)"
   ]
  },
  {
   "cell_type": "markdown",
   "id": "0a4fce91",
   "metadata": {},
   "source": [
    "How does bacon.append(99) change the look of the list value in bacon?\n"
   ]
  },
  {
   "cell_type": "code",
   "execution_count": 1,
   "id": "177a99a2",
   "metadata": {},
   "outputs": [
    {
     "data": {
      "text/plain": [
       "[3.14, 'cat', 11, 'cat', True, 99]"
      ]
     },
     "execution_count": 1,
     "metadata": {},
     "output_type": "execute_result"
    }
   ],
   "source": [
    "bacon=[3.14,'cat',11,'cat',True]\n",
    "bacon.append(99)\n",
    "bacon"
   ]
  },
  {
   "cell_type": "code",
   "execution_count": 2,
   "id": "af99c6a4",
   "metadata": {},
   "outputs": [],
   "source": [
    "#append function will append the given value in the last of the given list"
   ]
  },
  {
   "cell_type": "markdown",
   "id": "3afc97de",
   "metadata": {},
   "source": [
    "# (ANS.8)"
   ]
  },
  {
   "cell_type": "markdown",
   "id": "8df4359f",
   "metadata": {},
   "source": [
    "How does bacon.remove('cat') change the look of the list in bacon?\n",
    "\n"
   ]
  },
  {
   "cell_type": "markdown",
   "id": "969890a3",
   "metadata": {},
   "source": [
    "The remove function remove the first occurence of the given element from the list"
   ]
  },
  {
   "cell_type": "code",
   "execution_count": 3,
   "id": "3bc84c12",
   "metadata": {},
   "outputs": [
    {
     "data": {
      "text/plain": [
       "[3.14, 11, 'cat', True, 99]"
      ]
     },
     "execution_count": 3,
     "metadata": {},
     "output_type": "execute_result"
    }
   ],
   "source": [
    "bacon=[3.14,'cat',11,'cat',True,99]\n",
    "bacon.remove('cat')\n",
    "bacon"
   ]
  },
  {
   "cell_type": "markdown",
   "id": "98d10f7f",
   "metadata": {},
   "source": [
    "# (ANS.9)"
   ]
  },
  {
   "cell_type": "markdown",
   "id": "b9153970",
   "metadata": {},
   "source": [
    "what are the list concatenation and list replication operations?\n",
    "\n",
    "The operator for list concatenation is +, while the operator for replication is *. "
   ]
  },
  {
   "cell_type": "code",
   "execution_count": 4,
   "id": "bc5f1ed4",
   "metadata": {},
   "outputs": [
    {
     "name": "stdout",
     "output_type": "stream",
     "text": [
      "[1, 2, 3, 4, 5, 6]\n",
      "[1, 2, 3, 1, 2, 3]\n"
     ]
    }
   ],
   "source": [
    "L1=[1,2,3]\n",
    "L2=[4,5,6]\n",
    "print(L1+L2)\n",
    "print(L1*2)"
   ]
  },
  {
   "cell_type": "markdown",
   "id": "bd988890",
   "metadata": {},
   "source": [
    "# (ANS.10)"
   ]
  },
  {
   "cell_type": "markdown",
   "id": "55050dc3",
   "metadata": {},
   "source": [
    "what is the difference between the list method append() and insert()?\n",
    "\n",
    "While append() will add values only to the end of a list, insert() can add them anywhere in the list."
   ]
  },
  {
   "cell_type": "code",
   "execution_count": 6,
   "id": "a958c1ba",
   "metadata": {},
   "outputs": [
    {
     "data": {
      "text/plain": [
       "[1, 2, 6, 3, 4, 5]"
      ]
     },
     "execution_count": 6,
     "metadata": {},
     "output_type": "execute_result"
    }
   ],
   "source": [
    "L1=[1,2,3,4]\n",
    "L1.append(5)\n",
    "L1.insert(2,6)\n",
    "L1"
   ]
  },
  {
   "cell_type": "markdown",
   "id": "1ee81b56",
   "metadata": {},
   "source": [
    "# (ANS.11)"
   ]
  },
  {
   "cell_type": "markdown",
   "id": "bf35d7d7",
   "metadata": {},
   "source": [
    "What are the two methods for removing items from a list?"
   ]
  },
  {
   "cell_type": "markdown",
   "id": "05865c75",
   "metadata": {},
   "source": [
    "Their are two methods first is del statement and other is remove() function "
   ]
  },
  {
   "cell_type": "markdown",
   "id": "3e419e0a",
   "metadata": {},
   "source": [
    "# (ANS.12)"
   ]
  },
  {
   "cell_type": "markdown",
   "id": "7b6e5b70",
   "metadata": {},
   "source": [
    "Describe how list values and string values are identical.\n",
    "\n",
    "len() function can used for both string as well as list, both have indexes and can be sliced can be used in for loop."
   ]
  },
  {
   "cell_type": "markdown",
   "id": "4da622f6",
   "metadata": {},
   "source": [
    "# (ANS.13)"
   ]
  },
  {
   "cell_type": "markdown",
   "id": "cc3ab3cd",
   "metadata": {},
   "source": [
    "# What's the difference between tuples and lists?\n"
   ]
  },
  {
   "cell_type": "markdown",
   "id": "83dab0e5",
   "metadata": {},
   "source": [
    "Tuples are immutable but we can acces to the elements thorugh indexing but we can not the change the value in tuples and tuples can be slicable.\n",
    "Lists are mutable,indexable and slicable the value canbe changed in lists\n",
    "\n",
    "tuples are represented by() and lists are represented by[]"
   ]
  },
  {
   "cell_type": "markdown",
   "id": "7d9e0f55",
   "metadata": {},
   "source": [
    "# (ANS.14)"
   ]
  },
  {
   "cell_type": "markdown",
   "id": "fe010e07",
   "metadata": {},
   "source": [
    "How do you type a tuple value that only contains the integer 42?"
   ]
  },
  {
   "cell_type": "markdown",
   "id": "6bed752a",
   "metadata": {},
   "source": [
    "The trailing comma is compulsory otherwise its considered as a int "
   ]
  },
  {
   "cell_type": "code",
   "execution_count": 8,
   "id": "1aadfa16",
   "metadata": {},
   "outputs": [
    {
     "name": "stdout",
     "output_type": "stream",
     "text": [
      "<class 'int'>\n",
      "<class 'tuple'>\n"
     ]
    }
   ],
   "source": [
    "T1=(42)\n",
    "T2=(42,)\n",
    "print(type(T1))\n",
    "print(type(T2))"
   ]
  },
  {
   "cell_type": "markdown",
   "id": "5b075487",
   "metadata": {},
   "source": [
    "# (ANS.15)"
   ]
  },
  {
   "cell_type": "markdown",
   "id": "995071dc",
   "metadata": {},
   "source": [
    "How do you get a list value's tuple form? How do you get a tuple value's list form?\n",
    "\n",
    "The tuple() and list() functions are used to convert a list into tuple or a tuple into a list"
   ]
  },
  {
   "cell_type": "markdown",
   "id": "91b484be",
   "metadata": {},
   "source": [
    "# (ANS.16)"
   ]
  },
  {
   "cell_type": "markdown",
   "id": "a084cecc",
   "metadata": {},
   "source": [
    "Variables that \"contain\" list values are not necessarily lists themselves. Instead, what do they contain?"
   ]
  },
  {
   "cell_type": "markdown",
   "id": "01f1a3d6",
   "metadata": {},
   "source": [
    "They contain refrences to list values"
   ]
  },
  {
   "cell_type": "markdown",
   "id": "92c534ad",
   "metadata": {},
   "source": [
    "# (ANS.17)"
   ]
  },
  {
   "cell_type": "markdown",
   "id": "eabadf3a",
   "metadata": {},
   "source": [
    "How do you distinguish between copy.copy() and copy.deepcopy()?"
   ]
  },
  {
   "cell_type": "markdown",
   "id": "3ca721c3",
   "metadata": {},
   "source": [
    "The copy.copy() function will do a shallow copy of a list and the copy.deepcopy() function will do a deep copy of a list\n",
    "\n",
    "copy.deepcopy() will duplicate any lists inside the list"
   ]
  },
  {
   "cell_type": "code",
   "execution_count": null,
   "id": "83975307",
   "metadata": {},
   "outputs": [],
   "source": []
  }
 ],
 "metadata": {
  "kernelspec": {
   "display_name": "Python 3 (ipykernel)",
   "language": "python",
   "name": "python3"
  },
  "language_info": {
   "codemirror_mode": {
    "name": "ipython",
    "version": 3
   },
   "file_extension": ".py",
   "mimetype": "text/x-python",
   "name": "python",
   "nbconvert_exporter": "python",
   "pygments_lexer": "ipython3",
   "version": "3.10.9"
  }
 },
 "nbformat": 4,
 "nbformat_minor": 5
}
