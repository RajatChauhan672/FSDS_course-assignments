{
 "cells": [
  {
   "cell_type": "markdown",
   "id": "76ad73e8",
   "metadata": {},
   "source": [
    "# (ANS.1)"
   ]
  },
  {
   "cell_type": "markdown",
   "id": "8831d61b",
   "metadata": {},
   "source": [
    "What does an empty dictionary's code look like?\n",
    "\n",
    "An empty dictionary is  represented by two empty curly brackets\n",
    "d = {} or d = dict()"
   ]
  },
  {
   "cell_type": "code",
   "execution_count": 1,
   "id": "18edaff9",
   "metadata": {},
   "outputs": [
    {
     "name": "stdout",
     "output_type": "stream",
     "text": [
      "<class 'dict'>\n",
      "<class 'dict'>\n"
     ]
    }
   ],
   "source": [
    "d1={}\n",
    "d2=dict()\n",
    "print(type(d1))\n",
    "print(type(d2))"
   ]
  },
  {
   "cell_type": "markdown",
   "id": "eddade9b",
   "metadata": {},
   "source": [
    "# (ANS.2)"
   ]
  },
  {
   "cell_type": "markdown",
   "id": "78f8098a",
   "metadata": {},
   "source": [
    "what is the value of dictionary value with key 'foo' and the value 42 ?\n",
    "\n",
    "{'foo':42}\n"
   ]
  },
  {
   "cell_type": "code",
   "execution_count": 4,
   "id": "2f8b7453",
   "metadata": {},
   "outputs": [
    {
     "name": "stdout",
     "output_type": "stream",
     "text": [
      "42\n"
     ]
    }
   ],
   "source": [
    "d={'foo':42}\n",
    "print(d['foo'])"
   ]
  },
  {
   "cell_type": "markdown",
   "id": "0f0801ce",
   "metadata": {},
   "source": [
    "# (ANS.3)"
   ]
  },
  {
   "cell_type": "markdown",
   "id": "7d47fe34",
   "metadata": {},
   "source": [
    "What is the most significant distinction between a dictionary and a list?\n",
    "\n",
    "\n",
    "Items in dictionaries are unordered and items in list are ordered\n",
    "\n",
    "List are represented by [] and dictionaries are represented by {}"
   ]
  },
  {
   "cell_type": "markdown",
   "id": "1960070b",
   "metadata": {},
   "source": [
    "# (ANS.4)"
   ]
  },
  {
   "cell_type": "markdown",
   "id": "9ee9018a",
   "metadata": {},
   "source": [
    "What happens if you try to access spam ['foo'] if spam is {'bar':100} ?\n",
    "\n",
    "we will get an error which is a keyerror  KeyError:'foo'"
   ]
  },
  {
   "cell_type": "code",
   "execution_count": 5,
   "id": "ef92bb0a",
   "metadata": {},
   "outputs": [
    {
     "ename": "KeyError",
     "evalue": "'foo'",
     "output_type": "error",
     "traceback": [
      "\u001b[1;31m---------------------------------------------------------------------------\u001b[0m",
      "\u001b[1;31mKeyError\u001b[0m                                  Traceback (most recent call last)",
      "Cell \u001b[1;32mIn[5], line 2\u001b[0m\n\u001b[0;32m      1\u001b[0m d\u001b[38;5;241m=\u001b[39m{\u001b[38;5;124m'\u001b[39m\u001b[38;5;124mbar\u001b[39m\u001b[38;5;124m'\u001b[39m:\u001b[38;5;241m100\u001b[39m}\n\u001b[1;32m----> 2\u001b[0m \u001b[43md\u001b[49m\u001b[43m[\u001b[49m\u001b[38;5;124;43m'\u001b[39;49m\u001b[38;5;124;43mfoo\u001b[39;49m\u001b[38;5;124;43m'\u001b[39;49m\u001b[43m]\u001b[49m\n",
      "\u001b[1;31mKeyError\u001b[0m: 'foo'"
     ]
    }
   ],
   "source": [
    "d={'bar':100}\n",
    "d['foo']"
   ]
  },
  {
   "cell_type": "markdown",
   "id": "94ecc0f7",
   "metadata": {},
   "source": [
    "# (ANS.5)"
   ]
  },
  {
   "cell_type": "markdown",
   "id": "557540a0",
   "metadata": {},
   "source": [
    "if a dictionary is stored in spam,what is the difference between the expressions 'cat' in spam and 'cat' in spam.keys() ?\n",
    "\n",
    "There is no such difference. The operator checks whether a vlaue exists as a key in the dictionary or not"
   ]
  },
  {
   "cell_type": "code",
   "execution_count": 7,
   "id": "d7091127",
   "metadata": {},
   "outputs": [
    {
     "data": {
      "text/plain": [
       "True"
      ]
     },
     "execution_count": 7,
     "metadata": {},
     "output_type": "execute_result"
    }
   ],
   "source": [
    "spam={'cat':'animal'}\n",
    "'cat' in spam"
   ]
  },
  {
   "cell_type": "code",
   "execution_count": 11,
   "id": "b424e717",
   "metadata": {},
   "outputs": [
    {
     "data": {
      "text/plain": [
       "True"
      ]
     },
     "execution_count": 11,
     "metadata": {},
     "output_type": "execute_result"
    }
   ],
   "source": [
    "spam={'cat':'animal'}\n",
    "'cat' in spam.keys()"
   ]
  },
  {
   "cell_type": "markdown",
   "id": "89d58fcc",
   "metadata": {},
   "source": [
    "# (ANS.6)"
   ]
  },
  {
   "cell_type": "markdown",
   "id": "c1472463",
   "metadata": {},
   "source": [
    "if a dictionary is stored in spam,what is the difference between the expressions 'cat' in spam and 'cat' in spam.values() ?\n",
    "\n",
    "'cat' in spam checks whether there is a 'cat' key in the dictionary, while 'cat' in spam.values() checks whether there is a value 'cat' for one of the keys in spam"
   ]
  },
  {
   "cell_type": "code",
   "execution_count": 12,
   "id": "e726251a",
   "metadata": {},
   "outputs": [
    {
     "data": {
      "text/plain": [
       "True"
      ]
     },
     "execution_count": 12,
     "metadata": {},
     "output_type": "execute_result"
    }
   ],
   "source": [
    "spam={'cat':'animal'}\n",
    "'cat' in spam"
   ]
  },
  {
   "cell_type": "code",
   "execution_count": 13,
   "id": "665a9d46",
   "metadata": {},
   "outputs": [
    {
     "data": {
      "text/plain": [
       "True"
      ]
     },
     "execution_count": 13,
     "metadata": {},
     "output_type": "execute_result"
    }
   ],
   "source": [
    "spam={'cat':'animal'}\n",
    "'cat' in spam.keys()"
   ]
  },
  {
   "cell_type": "code",
   "execution_count": 20,
   "id": "7894006d",
   "metadata": {},
   "outputs": [
    {
     "data": {
      "text/plain": [
       "False"
      ]
     },
     "execution_count": 20,
     "metadata": {},
     "output_type": "execute_result"
    }
   ],
   "source": [
    "spam={'cat':'null'}\n",
    "'cat' in spam.values()"
   ]
  },
  {
   "cell_type": "markdown",
   "id": "f006d54c",
   "metadata": {},
   "source": [
    "# (ANS.7)"
   ]
  },
  {
   "cell_type": "markdown",
   "id": "4d12a82a",
   "metadata": {},
   "source": [
    "what is a shortcut for the following code ?\n",
    "\n",
    "if 'color' not in spam : spam['color'] ='black'\n",
    "    \n",
    "spam.setdefault('color','black')"
   ]
  },
  {
   "cell_type": "code",
   "execution_count": 22,
   "id": "c3bb0a9f",
   "metadata": {},
   "outputs": [
    {
     "data": {
      "text/plain": [
       "{'name': 'xyz', 'age': 34, 'color': 'black'}"
      ]
     },
     "execution_count": 22,
     "metadata": {},
     "output_type": "execute_result"
    }
   ],
   "source": [
    "spam={'name':'xyz','age':34,}\n",
    "spam.setdefault('color','black')\n",
    "spam"
   ]
  },
  {
   "cell_type": "markdown",
   "id": "73a6d439",
   "metadata": {},
   "source": [
    "# (ANS.8)"
   ]
  },
  {
   "cell_type": "markdown",
   "id": "e2715d13",
   "metadata": {},
   "source": [
    "How do you 'pretty print' dictionary values using which modules and function ?\n",
    "\n",
    "we can pretty print a dictionary using three functions\n",
    "\n",
    "by using pprint() function of pprint module\n",
    "\n",
    "by using dumps() method of json module\n",
    "\n",
    "by using dumps() method of yaml module\n",
    "\n"
   ]
  },
  {
   "cell_type": "code",
   "execution_count": null,
   "id": "543f5787",
   "metadata": {},
   "outputs": [],
   "source": []
  }
 ],
 "metadata": {
  "kernelspec": {
   "display_name": "Python 3 (ipykernel)",
   "language": "python",
   "name": "python3"
  },
  "language_info": {
   "codemirror_mode": {
    "name": "ipython",
    "version": 3
   },
   "file_extension": ".py",
   "mimetype": "text/x-python",
   "name": "python",
   "nbconvert_exporter": "python",
   "pygments_lexer": "ipython3",
   "version": "3.10.9"
  }
 },
 "nbformat": 4,
 "nbformat_minor": 5
}
