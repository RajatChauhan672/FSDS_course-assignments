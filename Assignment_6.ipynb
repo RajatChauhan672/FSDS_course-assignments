{
 "cells": [
  {
   "cell_type": "markdown",
   "id": "8626a61a",
   "metadata": {},
   "source": [
    "# (ANS.1)"
   ]
  },
  {
   "cell_type": "markdown",
   "id": "11df22f8",
   "metadata": {},
   "source": [
    "What are keywords in python? Using the keyword library, print all the python keywords.\n",
    "\n",
    "keywords are the special reserved words that have specific maenings. Keywords are the functional building blocks of any python program"
   ]
  },
  {
   "cell_type": "code",
   "execution_count": 3,
   "id": "c523c770",
   "metadata": {},
   "outputs": [
    {
     "name": "stdout",
     "output_type": "stream",
     "text": [
      "['False', 'None', 'True', 'and', 'as', 'assert', 'async', 'await', 'break', 'class', 'continue', 'def', 'del', 'elif', 'else', 'except', 'finally', 'for', 'from', 'global', 'if', 'import', 'in', 'is', 'lambda', 'nonlocal', 'not', 'or', 'pass', 'raise', 'return', 'try', 'while', 'with', 'yield']\n"
     ]
    }
   ],
   "source": [
    "import keyword as kw\n",
    "print(kw.kwlist)\n"
   ]
  },
  {
   "cell_type": "markdown",
   "id": "03c1a42f",
   "metadata": {},
   "source": [
    "# (ANS.2)"
   ]
  },
  {
   "cell_type": "markdown",
   "id": "2da7ca35",
   "metadata": {},
   "source": [
    "What are the rules to create variables in python?"
   ]
  },
  {
   "cell_type": "raw",
   "id": "cc550e7b",
   "metadata": {},
   "source": [
    "A Python variable name must start with a letter or the underscore character.\n",
    "A Python variable name cannot start with a number.\n",
    "A Python variable name can only contain alpha-numeric characters and underscores (A-z, 0-9, and _ ).\n",
    "Variable in Python names are case-sensitive (name, Name, and NAME are three different variables).\n",
    "The reserved words(keywords) in Python cannot be used to name the variable in Python."
   ]
  },
  {
   "cell_type": "markdown",
   "id": "725852b8",
   "metadata": {},
   "source": [
    "# (ANS.3)"
   ]
  },
  {
   "cell_type": "markdown",
   "id": "2e8b2163",
   "metadata": {},
   "source": [
    "What are the standards and conventions followed for the nomenclature of variables in\n",
    "python to improve code readability and maintainability?"
   ]
  },
  {
   "cell_type": "markdown",
   "id": "ef009174",
   "metadata": {},
   "source": [
    "Meaningful and understandable variables name helps anyone to understand the reason of using it\n",
    "\n",
    "Local variables should be named using camel case lettering starting with small letter\n",
    "whereas Global variables names should start with a capital letter\n",
    "\n",
    "It is better to avoid the use of digits in variable names\n",
    "\n",
    "The names of the function should be written in camel case starting with small letters\n",
    "\n",
    "The name of the function must describe the reason of using the function clearly and briefly."
   ]
  },
  {
   "cell_type": "markdown",
   "id": "70fde821",
   "metadata": {},
   "source": [
    "# (ANS.4)"
   ]
  },
  {
   "cell_type": "markdown",
   "id": "20e2ae03",
   "metadata": {},
   "source": [
    "What will happen if a keyword is used as a variable name"
   ]
  },
  {
   "cell_type": "markdown",
   "id": "46169e23",
   "metadata": {},
   "source": [
    "It will give SyntaxError: cannot assign to \"KeywordName\"\n"
   ]
  },
  {
   "cell_type": "code",
   "execution_count": 5,
   "id": "63069f55",
   "metadata": {},
   "outputs": [
    {
     "ename": "SyntaxError",
     "evalue": "cannot assign to False (155442112.py, line 1)",
     "output_type": "error",
     "traceback": [
      "\u001b[1;36m  Cell \u001b[1;32mIn[5], line 1\u001b[1;36m\u001b[0m\n\u001b[1;33m    False=10\u001b[0m\n\u001b[1;37m    ^\u001b[0m\n\u001b[1;31mSyntaxError\u001b[0m\u001b[1;31m:\u001b[0m cannot assign to False\n"
     ]
    }
   ],
   "source": [
    "False=10\n",
    "print(False)"
   ]
  },
  {
   "cell_type": "markdown",
   "id": "3283a03c",
   "metadata": {},
   "source": [
    "# (ANS.5)"
   ]
  },
  {
   "cell_type": "markdown",
   "id": "78242ade",
   "metadata": {},
   "source": [
    "For what purpose def keyword is used?"
   ]
  },
  {
   "cell_type": "markdown",
   "id": "b9448d8a",
   "metadata": {},
   "source": [
    "def keyword is used to define a function it is written before the function name that is provided by the user to create a user-defined function"
   ]
  },
  {
   "cell_type": "markdown",
   "id": "f19e7990",
   "metadata": {},
   "source": [
    "# (ANS.6)"
   ]
  },
  {
   "cell_type": "markdown",
   "id": "73b71823",
   "metadata": {},
   "source": [
    "What is the operation of this special character ‘\\’?"
   ]
  },
  {
   "cell_type": "raw",
   "id": "069351d9",
   "metadata": {},
   "source": [
    "\"\\\" is a escape characters represent characters in string values that would otherwise be difficult or impossible to type into code. we can use the backslash character to escape a single character or symbol"
   ]
  },
  {
   "cell_type": "markdown",
   "id": "3396569b",
   "metadata": {},
   "source": [
    "# (ANS.7)"
   ]
  },
  {
   "cell_type": "markdown",
   "id": "00ba266e",
   "metadata": {},
   "source": [
    "Give an example of the following conditions:\n"
   ]
  },
  {
   "cell_type": "markdown",
   "id": "acb65aaa",
   "metadata": {},
   "source": [
    "(i) Homogeneous list\n",
    "\n",
    "I think homogeneous list means list containing similar type of items"
   ]
  },
  {
   "cell_type": "code",
   "execution_count": 1,
   "id": "c46918e3",
   "metadata": {},
   "outputs": [],
   "source": [
    "L1=['dog','cat','lion','tiger']"
   ]
  },
  {
   "cell_type": "markdown",
   "id": "58e22307",
   "metadata": {},
   "source": [
    "(ii) Heterogeneous set\n",
    "\n",
    "homogeneous set means list containing similar type of items"
   ]
  },
  {
   "cell_type": "code",
   "execution_count": 2,
   "id": "598325a3",
   "metadata": {},
   "outputs": [
    {
     "data": {
      "text/plain": [
       "{1, 2, 3}"
      ]
     },
     "execution_count": 2,
     "metadata": {},
     "output_type": "execute_result"
    }
   ],
   "source": [
    "s={1,2,3}\n",
    "s"
   ]
  },
  {
   "cell_type": "markdown",
   "id": "474f7a95",
   "metadata": {},
   "source": [
    "(iii) Homogeneous tuple"
   ]
  },
  {
   "cell_type": "code",
   "execution_count": 4,
   "id": "57600b6d",
   "metadata": {},
   "outputs": [
    {
     "data": {
      "text/plain": [
       "('rajat', 'chauhan')"
      ]
     },
     "execution_count": 4,
     "metadata": {},
     "output_type": "execute_result"
    }
   ],
   "source": [
    "t1=('rajat','chauhan',)\n",
    "t1"
   ]
  },
  {
   "cell_type": "markdown",
   "id": "93559ff3",
   "metadata": {},
   "source": [
    "# (ANS.8)"
   ]
  },
  {
   "cell_type": "markdown",
   "id": "57eff5fd",
   "metadata": {},
   "source": [
    " Explain the mutable and immutable data types with proper explanation & examples.\n"
   ]
  },
  {
   "cell_type": "markdown",
   "id": "8ba863ad",
   "metadata": {},
   "source": [
    "MUTABLE DATATYPES\n",
    "\n",
    "Mutable data types are those in which  values can be changed or modify or we can also remove or delete the values.\n",
    "\n",
    "Mutable datatypes are:\n",
    "\n",
    "List,\n",
    "dictionaries"
   ]
  },
  {
   "cell_type": "code",
   "execution_count": 8,
   "id": "1355b7b2",
   "metadata": {},
   "outputs": [
    {
     "data": {
      "text/plain": [
       "[1, 2, 'rajat', 4, 5]"
      ]
     },
     "execution_count": 8,
     "metadata": {},
     "output_type": "execute_result"
    }
   ],
   "source": [
    "list_1=[1,2,3,4,5]\n",
    "list_1[2]=\"rajat\"  # Modifying the value a address 2\n",
    "list_1"
   ]
  },
  {
   "cell_type": "code",
   "execution_count": 9,
   "id": "054b8afc",
   "metadata": {},
   "outputs": [
    {
     "data": {
      "text/plain": [
       "{'name': 'suraj', 'age': 21, 'gender': 'male'}"
      ]
     },
     "execution_count": 9,
     "metadata": {},
     "output_type": "execute_result"
    }
   ],
   "source": [
    "dict_1={'name':'rajat','age':21,'gender':\"male\"}\n",
    "dict_1[\"name\"]='suraj'\n",
    "dict_1"
   ]
  },
  {
   "cell_type": "markdown",
   "id": "280bfb8c",
   "metadata": {},
   "source": [
    "IMMUTABLE DATATYPES\n",
    "\n",
    "Immutable data types are the objects that cannot be modified and altered\n",
    "\n",
    "Mutable datatypes are:\n",
    "\n",
    "tuple,\n",
    "String\n"
   ]
  },
  {
   "cell_type": "code",
   "execution_count": 11,
   "id": "f9ab523b",
   "metadata": {},
   "outputs": [
    {
     "ename": "TypeError",
     "evalue": "'str' object does not support item assignment",
     "output_type": "error",
     "traceback": [
      "\u001b[1;31m---------------------------------------------------------------------------\u001b[0m",
      "\u001b[1;31mTypeError\u001b[0m                                 Traceback (most recent call last)",
      "Cell \u001b[1;32mIn[11], line 2\u001b[0m\n\u001b[0;32m      1\u001b[0m string_1\u001b[38;5;241m=\u001b[39m\u001b[38;5;124m\"\u001b[39m\u001b[38;5;124mrajat\u001b[39m\u001b[38;5;124m\"\u001b[39m\n\u001b[1;32m----> 2\u001b[0m string_1[\u001b[38;5;241m2\u001b[39m]\u001b[38;5;241m=\u001b[39m\u001b[38;5;124m'\u001b[39m\u001b[38;5;124ml\u001b[39m\u001b[38;5;124m'\u001b[39m\n",
      "\u001b[1;31mTypeError\u001b[0m: 'str' object does not support item assignment"
     ]
    }
   ],
   "source": [
    "string_1=\"rajat\"\n",
    "string_1[2]='l'"
   ]
  },
  {
   "cell_type": "code",
   "execution_count": 12,
   "id": "6510a1a5",
   "metadata": {},
   "outputs": [
    {
     "ename": "TypeError",
     "evalue": "'tuple' object does not support item assignment",
     "output_type": "error",
     "traceback": [
      "\u001b[1;31m---------------------------------------------------------------------------\u001b[0m",
      "\u001b[1;31mTypeError\u001b[0m                                 Traceback (most recent call last)",
      "Cell \u001b[1;32mIn[12], line 2\u001b[0m\n\u001b[0;32m      1\u001b[0m tuple_1\u001b[38;5;241m=\u001b[39m(\u001b[38;5;241m1\u001b[39m,\u001b[38;5;241m2\u001b[39m,\u001b[38;5;241m3\u001b[39m)\n\u001b[1;32m----> 2\u001b[0m tuple_1[\u001b[38;5;241m1\u001b[39m]\u001b[38;5;241m=\u001b[39m\u001b[38;5;241m3\u001b[39m\n",
      "\u001b[1;31mTypeError\u001b[0m: 'tuple' object does not support item assignment"
     ]
    }
   ],
   "source": [
    "tuple_1=(1,2,3)\n",
    "tuple_1[1]=3"
   ]
  },
  {
   "cell_type": "markdown",
   "id": "6ee1011e",
   "metadata": {},
   "source": [
    "# (ANS.9)"
   ]
  },
  {
   "cell_type": "markdown",
   "id": "52e25518",
   "metadata": {},
   "source": [
    "Write a code to create the given structure using only for loop"
   ]
  },
  {
   "cell_type": "code",
   "execution_count": 27,
   "id": "ff30b7eb",
   "metadata": {},
   "outputs": [
    {
     "name": "stdout",
     "output_type": "stream",
     "text": [
      "    *\n",
      "   ***\n",
      "  *****\n",
      " *******\n",
      "*********\n"
     ]
    }
   ],
   "source": [
    "rows=5\n",
    "for i in range(1,rows+1):\n",
    "    for j in range(1,(rows+1)-i):\n",
    "        print(\" \",end=\"\")\n",
    "    for k in range(1,2*i):\n",
    "        print(\"*\",end='')\n",
    "    print()\n",
    "\n",
    " \n",
    "    "
   ]
  },
  {
   "cell_type": "markdown",
   "id": "99d2bed6",
   "metadata": {},
   "source": [
    "# (ANS.10)"
   ]
  },
  {
   "cell_type": "markdown",
   "id": "21ade241",
   "metadata": {},
   "source": [
    "Write a code to create the given structure using while loop."
   ]
  },
  {
   "cell_type": "code",
   "execution_count": 37,
   "id": "cb08a09c",
   "metadata": {},
   "outputs": [
    {
     "name": "stdout",
     "output_type": "stream",
     "text": [
      "|||||||||\n",
      " |||||||\n",
      "  |||||\n",
      "   |||\n",
      "    |\n"
     ]
    }
   ],
   "source": [
    "rows=5\n",
    "i=1\n",
    "k=rows*2-1\n",
    "while i<=rows:\n",
    "    j=1\n",
    "    while i-j:\n",
    "        print(' ',end='')\n",
    "        j=j+1\n",
    "    star=1    \n",
    "    \n",
    "    while star<=k:\n",
    "        print(\"|\",end='')\n",
    "        star=star+1\n",
    "    k=k-2   \n",
    "    i+=1    \n",
    "    print()    "
   ]
  },
  {
   "cell_type": "code",
   "execution_count": null,
   "id": "e14b463f",
   "metadata": {},
   "outputs": [],
   "source": []
  }
 ],
 "metadata": {
  "kernelspec": {
   "display_name": "Python 3 (ipykernel)",
   "language": "python",
   "name": "python3"
  },
  "language_info": {
   "codemirror_mode": {
    "name": "ipython",
    "version": 3
   },
   "file_extension": ".py",
   "mimetype": "text/x-python",
   "name": "python",
   "nbconvert_exporter": "python",
   "pygments_lexer": "ipython3",
   "version": "3.10.9"
  }
 },
 "nbformat": 4,
 "nbformat_minor": 5
}
